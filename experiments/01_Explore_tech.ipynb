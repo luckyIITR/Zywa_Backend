{
 "cells": [
  {
   "cell_type": "code",
   "execution_count": 144,
   "id": "3466769c-8215-471e-b1a8-82e9f8191368",
   "metadata": {},
   "outputs": [],
   "source": [
    "import pandas as pd\n",
    "import numpy as np\n",
    "import os\n",
    "from pymongo.mongo_client import MongoClient\n",
    "from pymongo.server_api import ServerApi"
   ]
  },
  {
   "cell_type": "code",
   "execution_count": 357,
   "id": "1e01f9fb-e694-4928-8443-42ffdb3b54d3",
   "metadata": {},
   "outputs": [],
   "source": [
    "# !pip install python-dotenv"
   ]
  },
  {
   "cell_type": "code",
   "execution_count": 3,
   "id": "c22f1a4b-92d6-49aa-addf-eb5343a6292a",
   "metadata": {},
   "outputs": [
    {
     "name": "stdout",
     "output_type": "stream",
     "text": [
      "/home/lucky/Documents/projects/Zywa_Backend/experiments\n"
     ]
    }
   ],
   "source": [
    "!pwd"
   ]
  },
  {
   "cell_type": "code",
   "execution_count": 5,
   "id": "946a8255-f3e8-4e1d-902f-0b11b3ab5aba",
   "metadata": {},
   "outputs": [],
   "source": [
    "os.chdir(\"../\")"
   ]
  },
  {
   "cell_type": "code",
   "execution_count": 10,
   "id": "9a0b7dfa-d164-4f68-9f09-2648fbedfffe",
   "metadata": {},
   "outputs": [
    {
     "name": "stdout",
     "output_type": "stream",
     "text": [
      "/home/lucky/Documents/projects/Zywa_Backend\n"
     ]
    }
   ],
   "source": [
    "!pwd"
   ]
  },
  {
   "cell_type": "code",
   "execution_count": 362,
   "id": "9a589994-72f1-4ef8-b718-136a564f3cdc",
   "metadata": {},
   "outputs": [
    {
     "data": {
      "text/plain": [
       "True"
      ]
     },
     "execution_count": 362,
     "metadata": {},
     "output_type": "execute_result"
    }
   ],
   "source": [
    "from dotenv import load_dotenv\n",
    "load_dotenv()  # Loads variables from the .env file\n",
    "# os.getenv('DATABASE_URL')"
   ]
  },
  {
   "cell_type": "code",
   "execution_count": 363,
   "id": "7de0e01b-a12c-4fdb-ba68-4a4af91a9b34",
   "metadata": {},
   "outputs": [],
   "source": [
    "uri = os.getenv('DATABASE_URL')"
   ]
  },
  {
   "cell_type": "code",
   "execution_count": 150,
   "id": "23426510-6448-4594-9fcc-adbbda998529",
   "metadata": {},
   "outputs": [
    {
     "ename": "FileNotFoundError",
     "evalue": "[Errno 2] No such file or directory: 'data/'",
     "output_type": "error",
     "traceback": [
      "\u001b[0;31m---------------------------------------------------------------------------\u001b[0m",
      "\u001b[0;31mFileNotFoundError\u001b[0m                         Traceback (most recent call last)",
      "\u001b[0;32m/tmp/ipykernel_12256/1498684519.py\u001b[0m in \u001b[0;36m<cell line: 0>\u001b[0;34m()\u001b[0m\n\u001b[0;32m----> 1\u001b[0;31m \u001b[0mos\u001b[0m\u001b[0;34m.\u001b[0m\u001b[0mchdir\u001b[0m\u001b[0;34m(\u001b[0m\u001b[0;34m\"data/\"\u001b[0m\u001b[0;34m)\u001b[0m\u001b[0;34m\u001b[0m\u001b[0;34m\u001b[0m\u001b[0m\n\u001b[0m",
      "\u001b[0;31mFileNotFoundError\u001b[0m: [Errno 2] No such file or directory: 'data/'"
     ]
    }
   ],
   "source": [
    "os.chdir(\"data/\")"
   ]
  },
  {
   "cell_type": "code",
   "execution_count": 16,
   "id": "797b4574-b3be-41bf-a973-6c60f7549752",
   "metadata": {},
   "outputs": [
    {
     "data": {
      "text/plain": [
       "['Sample Card Status Info - Delivered.csv',\n",
       " 'Sample Card Status Info - Delivery exceptions.csv',\n",
       " 'Sample Card Status Info - Returned.csv',\n",
       " 'Sample Card Status Info - Pickup.csv']"
      ]
     },
     "execution_count": 16,
     "metadata": {},
     "output_type": "execute_result"
    }
   ],
   "source": [
    "files = os.listdir()\n",
    "files"
   ]
  },
  {
   "cell_type": "code",
   "execution_count": 20,
   "id": "fbb016b1-7e26-4c6e-8766-c43ea28e3391",
   "metadata": {},
   "outputs": [
    {
     "data": {
      "text/plain": [
       "True"
      ]
     },
     "execution_count": 20,
     "metadata": {},
     "output_type": "execute_result"
    }
   ],
   "source": [
    "\"DELIVERED\" in files[0].upper()"
   ]
  },
  {
   "cell_type": "code",
   "execution_count": 27,
   "id": "f66a485f-c3fc-4f26-aba3-114582ea8187",
   "metadata": {},
   "outputs": [
    {
     "data": {
      "text/plain": [
       "True"
      ]
     },
     "execution_count": 27,
     "metadata": {},
     "output_type": "execute_result"
    }
   ],
   "source": [
    "\"EXCEPTIONS\" in files[1].upper()"
   ]
  },
  {
   "cell_type": "code",
   "execution_count": 24,
   "id": "1c5583d9-4a7f-471c-aa06-e9aee2fe659d",
   "metadata": {},
   "outputs": [
    {
     "data": {
      "text/plain": [
       "True"
      ]
     },
     "execution_count": 24,
     "metadata": {},
     "output_type": "execute_result"
    }
   ],
   "source": [
    "\"RETURNED\" in files[2].upper()"
   ]
  },
  {
   "cell_type": "code",
   "execution_count": 26,
   "id": "a2ef363b-479b-4767-bfdf-45a10b056072",
   "metadata": {},
   "outputs": [
    {
     "data": {
      "text/plain": [
       "True"
      ]
     },
     "execution_count": 26,
     "metadata": {},
     "output_type": "execute_result"
    }
   ],
   "source": [
    "\"PICKUP\" in files[3].upper()"
   ]
  },
  {
   "cell_type": "code",
   "execution_count": 28,
   "id": "0d7e4b94-1a1f-4e3e-a4d4-20313a61ebf7",
   "metadata": {},
   "outputs": [],
   "source": [
    "labeled_files = {\"DELIVERED\" : [],\n",
    "                 \"EXCEPTIONS\" : [],\n",
    "                 \"RETURNED\" : [],\n",
    "                 \"PICKUP\" : []}\n",
    "\n",
    "for file in files:\n",
    "    if(\"DELIVERED\" in file.upper()):\n",
    "        labeled_files['DELIVERED'].append(file)\n",
    "    elif(\"EXCEPTIONS\" in file.upper()):\n",
    "        labeled_files['EXCEPTIONS'].append(file)\n",
    "    elif(\"RETURNED\" in file.upper()):\n",
    "        labeled_files['RETURNED'].append(file)\n",
    "    elif(\"PICKUP\" in file.upper()):\n",
    "        labeled_files['PICKUP'].append(file)"
   ]
  },
  {
   "cell_type": "code",
   "execution_count": 29,
   "id": "54674dcf-6c5b-4fac-b491-123bc38d3892",
   "metadata": {},
   "outputs": [
    {
     "data": {
      "text/plain": [
       "{'DELIVERED': ['Sample Card Status Info - Delivered.csv'],\n",
       " 'EXCEPTIONS': ['Sample Card Status Info - Delivery exceptions.csv'],\n",
       " 'RETURNED': ['Sample Card Status Info - Returned.csv'],\n",
       " 'PICKUP': ['Sample Card Status Info - Pickup.csv']}"
      ]
     },
     "execution_count": 29,
     "metadata": {},
     "output_type": "execute_result"
    }
   ],
   "source": [
    "labeled_files"
   ]
  },
  {
   "cell_type": "code",
   "execution_count": 32,
   "id": "d2c0e0fa-866d-45f1-aed5-4ca28a427523",
   "metadata": {},
   "outputs": [
    {
     "data": {
      "text/html": [
       "<div>\n",
       "<style scoped>\n",
       "    .dataframe tbody tr th:only-of-type {\n",
       "        vertical-align: middle;\n",
       "    }\n",
       "\n",
       "    .dataframe tbody tr th {\n",
       "        vertical-align: top;\n",
       "    }\n",
       "\n",
       "    .dataframe thead th {\n",
       "        text-align: right;\n",
       "    }\n",
       "</style>\n",
       "<table border=\"1\" class=\"dataframe\">\n",
       "  <thead>\n",
       "    <tr style=\"text-align: right;\">\n",
       "      <th></th>\n",
       "      <th>ID</th>\n",
       "      <th>Card ID</th>\n",
       "      <th>User contact</th>\n",
       "      <th>Timestamp</th>\n",
       "      <th>Comment</th>\n",
       "    </tr>\n",
       "  </thead>\n",
       "  <tbody>\n",
       "    <tr>\n",
       "      <th>0</th>\n",
       "      <td>A883</td>\n",
       "      <td>ZYW8827</td>\n",
       "      <td>\"0585949014\"</td>\n",
       "      <td>2023-11-13T09:34:56Z</td>\n",
       "      <td>DELIVERED</td>\n",
       "    </tr>\n",
       "    <tr>\n",
       "      <th>1</th>\n",
       "      <td>A073</td>\n",
       "      <td>ZYW7631</td>\n",
       "      <td>\"0545576586\"</td>\n",
       "      <td>2023-11-14T12:34:56Z</td>\n",
       "      <td>DELIVERED</td>\n",
       "    </tr>\n",
       "  </tbody>\n",
       "</table>\n",
       "</div>"
      ],
      "text/plain": [
       "    ID   Card ID  User contact             Timestamp    Comment\n",
       "0  A883  ZYW8827  \"0585949014\"  2023-11-13T09:34:56Z  DELIVERED\n",
       "1  A073  ZYW7631  \"0545576586\"  2023-11-14T12:34:56Z  DELIVERED"
      ]
     },
     "execution_count": 32,
     "metadata": {},
     "output_type": "execute_result"
    }
   ],
   "source": [
    "pd.read_csv(labeled_files['DELIVERED'][0])"
   ]
  },
  {
   "cell_type": "code",
   "execution_count": 33,
   "id": "59a692b3-bb47-44b7-9ea7-c89e6cf5f7d3",
   "metadata": {},
   "outputs": [
    {
     "data": {
      "text/html": [
       "<div>\n",
       "<style scoped>\n",
       "    .dataframe tbody tr th:only-of-type {\n",
       "        vertical-align: middle;\n",
       "    }\n",
       "\n",
       "    .dataframe tbody tr th {\n",
       "        vertical-align: top;\n",
       "    }\n",
       "\n",
       "    .dataframe thead th {\n",
       "        text-align: right;\n",
       "    }\n",
       "</style>\n",
       "<table border=\"1\" class=\"dataframe\">\n",
       "  <thead>\n",
       "    <tr style=\"text-align: right;\">\n",
       "      <th></th>\n",
       "      <th>ID</th>\n",
       "      <th>Card ID</th>\n",
       "      <th>User contact</th>\n",
       "      <th>Timestamp</th>\n",
       "      <th>Comment</th>\n",
       "    </tr>\n",
       "  </thead>\n",
       "  <tbody>\n",
       "    <tr>\n",
       "      <th>0</th>\n",
       "      <td>A982</td>\n",
       "      <td>ZYW8890</td>\n",
       "      <td>\"0534534534\"</td>\n",
       "      <td>13-11-2023 14:00</td>\n",
       "      <td>User not available</td>\n",
       "    </tr>\n",
       "    <tr>\n",
       "      <th>1</th>\n",
       "      <td>A073</td>\n",
       "      <td>ZYW7631</td>\n",
       "      <td>\"0545576586\"</td>\n",
       "      <td>13-11-2023 16:00</td>\n",
       "      <td>User declined to accept package</td>\n",
       "    </tr>\n",
       "  </tbody>\n",
       "</table>\n",
       "</div>"
      ],
      "text/plain": [
       "    ID   Card ID  User contact         Timestamp  \\\n",
       "0  A982  ZYW8890  \"0534534534\"  13-11-2023 14:00   \n",
       "1  A073  ZYW7631  \"0545576586\"  13-11-2023 16:00   \n",
       "\n",
       "                           Comment  \n",
       "0               User not available  \n",
       "1  User declined to accept package  "
      ]
     },
     "execution_count": 33,
     "metadata": {},
     "output_type": "execute_result"
    }
   ],
   "source": [
    "pd.read_csv(labeled_files['EXCEPTIONS'][0])"
   ]
  },
  {
   "cell_type": "code",
   "execution_count": 34,
   "id": "121647df-931e-4f45-b2c4-de8812aa6e42",
   "metadata": {},
   "outputs": [
    {
     "data": {
      "text/html": [
       "<div>\n",
       "<style scoped>\n",
       "    .dataframe tbody tr th:only-of-type {\n",
       "        vertical-align: middle;\n",
       "    }\n",
       "\n",
       "    .dataframe tbody tr th {\n",
       "        vertical-align: top;\n",
       "    }\n",
       "\n",
       "    .dataframe thead th {\n",
       "        text-align: right;\n",
       "    }\n",
       "</style>\n",
       "<table border=\"1\" class=\"dataframe\">\n",
       "  <thead>\n",
       "    <tr style=\"text-align: right;\">\n",
       "      <th></th>\n",
       "      <th>ID</th>\n",
       "      <th>Card ID</th>\n",
       "      <th>User contact</th>\n",
       "      <th>Timestamp</th>\n",
       "    </tr>\n",
       "  </thead>\n",
       "  <tbody>\n",
       "    <tr>\n",
       "      <th>0</th>\n",
       "      <td>A982</td>\n",
       "      <td>ZYW8890</td>\n",
       "      <td>971534534534</td>\n",
       "      <td>14-11-2023 12:00PM</td>\n",
       "    </tr>\n",
       "  </tbody>\n",
       "</table>\n",
       "</div>"
      ],
      "text/plain": [
       "    ID   Card ID  User contact           Timestamp\n",
       "0  A982  ZYW8890  971534534534  14-11-2023 12:00PM"
      ]
     },
     "execution_count": 34,
     "metadata": {},
     "output_type": "execute_result"
    }
   ],
   "source": [
    "pd.read_csv(labeled_files['RETURNED'][0])"
   ]
  },
  {
   "cell_type": "code",
   "execution_count": 35,
   "id": "3d28abf3-0fc0-46f4-bea2-ea5cbb8e2e11",
   "metadata": {},
   "outputs": [
    {
     "data": {
      "text/html": [
       "<div>\n",
       "<style scoped>\n",
       "    .dataframe tbody tr th:only-of-type {\n",
       "        vertical-align: middle;\n",
       "    }\n",
       "\n",
       "    .dataframe tbody tr th {\n",
       "        vertical-align: top;\n",
       "    }\n",
       "\n",
       "    .dataframe thead th {\n",
       "        text-align: right;\n",
       "    }\n",
       "</style>\n",
       "<table border=\"1\" class=\"dataframe\">\n",
       "  <thead>\n",
       "    <tr style=\"text-align: right;\">\n",
       "      <th></th>\n",
       "      <th>ID</th>\n",
       "      <th>Card ID</th>\n",
       "      <th>User Mobile</th>\n",
       "      <th>Timestamp</th>\n",
       "    </tr>\n",
       "  </thead>\n",
       "  <tbody>\n",
       "    <tr>\n",
       "      <th>0</th>\n",
       "      <td>332</td>\n",
       "      <td>ZYW8827</td>\n",
       "      <td>585949014</td>\n",
       "      <td>12-11-2023 11:59 PM</td>\n",
       "    </tr>\n",
       "    <tr>\n",
       "      <th>1</th>\n",
       "      <td>465</td>\n",
       "      <td>ZYW8890</td>\n",
       "      <td>534534534</td>\n",
       "      <td>12-11-2023 3:45 AM</td>\n",
       "    </tr>\n",
       "    <tr>\n",
       "      <th>2</th>\n",
       "      <td>878</td>\n",
       "      <td>ZYW7631</td>\n",
       "      <td>545576586</td>\n",
       "      <td>13-11-2023 11:02 AM</td>\n",
       "    </tr>\n",
       "  </tbody>\n",
       "</table>\n",
       "</div>"
      ],
      "text/plain": [
       "    ID  Card ID  User Mobile            Timestamp\n",
       "0  332  ZYW8827    585949014  12-11-2023 11:59 PM\n",
       "1  465  ZYW8890    534534534   12-11-2023 3:45 AM\n",
       "2  878  ZYW7631    545576586  13-11-2023 11:02 AM"
      ]
     },
     "execution_count": 35,
     "metadata": {},
     "output_type": "execute_result"
    }
   ],
   "source": [
    "pd.read_csv(labeled_files['PICKUP'][0])"
   ]
  },
  {
   "cell_type": "markdown",
   "id": "f2237b9b-7d8b-44dd-9cf5-9d817d40618b",
   "metadata": {},
   "source": [
    "### creating card df"
   ]
  },
  {
   "cell_type": "code",
   "execution_count": 39,
   "id": "89bf073a-7f29-4427-979d-33645cdc55d9",
   "metadata": {},
   "outputs": [
    {
     "data": {
      "text/html": [
       "<div>\n",
       "<style scoped>\n",
       "    .dataframe tbody tr th:only-of-type {\n",
       "        vertical-align: middle;\n",
       "    }\n",
       "\n",
       "    .dataframe tbody tr th {\n",
       "        vertical-align: top;\n",
       "    }\n",
       "\n",
       "    .dataframe thead th {\n",
       "        text-align: right;\n",
       "    }\n",
       "</style>\n",
       "<table border=\"1\" class=\"dataframe\">\n",
       "  <thead>\n",
       "    <tr style=\"text-align: right;\">\n",
       "      <th></th>\n",
       "      <th>CARD_ID</th>\n",
       "      <th>USER_CONTACT</th>\n",
       "      <th>STATUS</th>\n",
       "      <th>TIMESTAMP</th>\n",
       "      <th>COMMENT</th>\n",
       "    </tr>\n",
       "  </thead>\n",
       "  <tbody>\n",
       "  </tbody>\n",
       "</table>\n",
       "</div>"
      ],
      "text/plain": [
       "Empty DataFrame\n",
       "Columns: [CARD_ID, USER_CONTACT, STATUS, TIMESTAMP, COMMENT]\n",
       "Index: []"
      ]
     },
     "execution_count": 39,
     "metadata": {},
     "output_type": "execute_result"
    }
   ],
   "source": [
    "column_names = ['CARD_ID', 'USER_CONTACT', 'STATUS', 'TIMESTAMP', 'COMMENT']\n",
    "card_df = pd.DataFrame(columns=column_names)\n",
    "card_df"
   ]
  },
  {
   "cell_type": "markdown",
   "id": "e10b48d1-fb7f-48c7-8c29-f2ecc8960573",
   "metadata": {},
   "source": [
    "### RegEx code for removing outer inverted commas"
   ]
  },
  {
   "cell_type": "code",
   "execution_count": 76,
   "id": "8835f78b-9a7d-45a0-93e8-8ae4dd539f07",
   "metadata": {},
   "outputs": [
    {
     "name": "stdout",
     "output_type": "stream",
     "text": [
      "Original: \"This is a string with outer inverted commas.\"\n",
      "Result: This is a string with outer inverted commas.\n",
      "Original: This is a string without outer inverted commas.\n",
      "Result: This is a string without outer inverted commas.\n",
      "Original: \"Only the first one should be removed.\"\n",
      "Result: Only the first one should be removed.\n",
      "Original: Both \"outer\" and \"inner\" inverted commas should be removed.\n",
      "Result: Both \"outer\" and \"inner\" inverted commas should be removed.\n",
      "Original: \"\n",
      "Result: \"\n",
      "Original: \n",
      "Result: \n"
     ]
    }
   ],
   "source": [
    "import re\n",
    "\n",
    "def remove_outer_inverted_commas(text):\n",
    "  \"\"\"\n",
    "  Removes inverted commas (\") from the beginning and end of a string, if present.\n",
    "\n",
    "  Args:\n",
    "    text: The string to process.\n",
    "\n",
    "  Returns:\n",
    "    The string with the outer inverted commas removed, if present. Otherwise, the original string.\n",
    "  \"\"\"\n",
    "\n",
    "  # Use regular expressions to match and remove outer inverted commas\n",
    "  pattern = r'^\"(.*?)\"$'\n",
    "  match = re.match(pattern, text)\n",
    "\n",
    "  if match:\n",
    "    return match.group(1)  # Return the inner content\n",
    "  else:\n",
    "    return text  # No change if no outer inverted commas\n",
    "\n",
    "# Test cases\n",
    "strings = [\n",
    "  '\"This is a string with outer inverted commas.\"',\n",
    "  'This is a string without outer inverted commas.',\n",
    "  '\"Only the first one should be removed.\"',\n",
    "  'Both \"outer\" and \"inner\" inverted commas should be removed.',\n",
    "  '\"',\n",
    "  ''\n",
    "]\n",
    "\n",
    "for string in strings:\n",
    "  print(f\"Original: {string}\")\n",
    "  result = remove_outer_inverted_commas(string)\n",
    "  print(f\"Result: {result}\")\n"
   ]
  },
  {
   "cell_type": "markdown",
   "id": "136147fc-0241-4bcc-8200-bb8d801a569c",
   "metadata": {},
   "source": [
    "### rename columns name"
   ]
  },
  {
   "cell_type": "code",
   "execution_count": 335,
   "id": "9c41a9b0-9d47-4796-8f76-556acb20887e",
   "metadata": {},
   "outputs": [],
   "source": [
    "def process_dataframe(df, status):\n",
    "    df = df.rename(columns={'Card ID': 'CARD_ID', 'User contact' : \"USER_CONTACT\", \"User Mobile\" : \"USER_CONTACT\",\"Timestamp\":\"TIMESTAMP\", \"Comment\" : \"COMMENT\"})\n",
    "    # appling regex only to object types columns\n",
    "    df[df.select_dtypes(include=['object']).columns.values] = df.select_dtypes(include=['object']).map(remove_outer_inverted_commas)\n",
    "    df[\"USER_CONTACT\"] = df[\"USER_CONTACT\"].astype('int64')\n",
    "\n",
    "    # pick up last 9 digits of contant number\n",
    "    df[\"USER_CONTACT\"] = df[\"USER_CONTACT\"].map(lambda x : str(x)[-9:])\n",
    "    df[\"STATUS\"] = status\n",
    "\n",
    "    def parse_flexible_format(timestamp):\n",
    "        for fmt in ('%d-%m-%Y %I:%M %p', '%d-%m-%Y %I:%M%p', '%d-%m-%Y %H:%M','%Y-%m-%dT%H:%M:%SZ'):  # Add more formats if needed\n",
    "            try:\n",
    "                return datetime.strptime(timestamp, fmt)\n",
    "            except ValueError:\n",
    "                pass  # Try the next format\n",
    "        raise ValueError(f\"Unrecognized timestamp format: {timestamp}\") \n",
    "    \n",
    "    # Apply the appropriate parsing function based on the format\n",
    "    df['TIMESTAMP'] = df['TIMESTAMP'].apply(parse_flexible_format)\n",
    "    df['TIMESTAMP'] = pd.to_datetime(df['TIMESTAMP'])\n",
    "    return df"
   ]
  },
  {
   "cell_type": "code",
   "execution_count": 336,
   "id": "a2607532-89d2-4dc3-887a-8c8278a631cd",
   "metadata": {},
   "outputs": [
    {
     "data": {
      "text/html": [
       "<div>\n",
       "<style scoped>\n",
       "    .dataframe tbody tr th:only-of-type {\n",
       "        vertical-align: middle;\n",
       "    }\n",
       "\n",
       "    .dataframe tbody tr th {\n",
       "        vertical-align: top;\n",
       "    }\n",
       "\n",
       "    .dataframe thead th {\n",
       "        text-align: right;\n",
       "    }\n",
       "</style>\n",
       "<table border=\"1\" class=\"dataframe\">\n",
       "  <thead>\n",
       "    <tr style=\"text-align: right;\">\n",
       "      <th></th>\n",
       "      <th>ID</th>\n",
       "      <th>Card ID</th>\n",
       "      <th>User contact</th>\n",
       "      <th>Timestamp</th>\n",
       "      <th>Comment</th>\n",
       "    </tr>\n",
       "  </thead>\n",
       "  <tbody>\n",
       "    <tr>\n",
       "      <th>0</th>\n",
       "      <td>A982</td>\n",
       "      <td>ZYW8890</td>\n",
       "      <td>\"0534534534\"</td>\n",
       "      <td>13-11-2023 14:00</td>\n",
       "      <td>User not available</td>\n",
       "    </tr>\n",
       "    <tr>\n",
       "      <th>1</th>\n",
       "      <td>A073</td>\n",
       "      <td>ZYW7631</td>\n",
       "      <td>\"0545576586\"</td>\n",
       "      <td>13-11-2023 16:00</td>\n",
       "      <td>User declined to accept package</td>\n",
       "    </tr>\n",
       "  </tbody>\n",
       "</table>\n",
       "</div>"
      ],
      "text/plain": [
       "    ID   Card ID  User contact         Timestamp  \\\n",
       "0  A982  ZYW8890  \"0534534534\"  13-11-2023 14:00   \n",
       "1  A073  ZYW7631  \"0545576586\"  13-11-2023 16:00   \n",
       "\n",
       "                           Comment  \n",
       "0               User not available  \n",
       "1  User declined to accept package  "
      ]
     },
     "execution_count": 336,
     "metadata": {},
     "output_type": "execute_result"
    }
   ],
   "source": [
    "df = pd.read_csv(labeled_files['EXCEPTIONS'][0])\n",
    "df"
   ]
  },
  {
   "cell_type": "code",
   "execution_count": 337,
   "id": "c7966730-7e2b-4492-b1c2-21b02280df54",
   "metadata": {},
   "outputs": [
    {
     "data": {
      "text/html": [
       "<div>\n",
       "<style scoped>\n",
       "    .dataframe tbody tr th:only-of-type {\n",
       "        vertical-align: middle;\n",
       "    }\n",
       "\n",
       "    .dataframe tbody tr th {\n",
       "        vertical-align: top;\n",
       "    }\n",
       "\n",
       "    .dataframe thead th {\n",
       "        text-align: right;\n",
       "    }\n",
       "</style>\n",
       "<table border=\"1\" class=\"dataframe\">\n",
       "  <thead>\n",
       "    <tr style=\"text-align: right;\">\n",
       "      <th></th>\n",
       "      <th>ID</th>\n",
       "      <th>CARD_ID</th>\n",
       "      <th>USER_CONTACT</th>\n",
       "      <th>TIMESTAMP</th>\n",
       "      <th>COMMENT</th>\n",
       "      <th>STATUS</th>\n",
       "    </tr>\n",
       "  </thead>\n",
       "  <tbody>\n",
       "    <tr>\n",
       "      <th>0</th>\n",
       "      <td>A982</td>\n",
       "      <td>ZYW8890</td>\n",
       "      <td>534534534</td>\n",
       "      <td>2023-11-13 14:00:00</td>\n",
       "      <td>User not available</td>\n",
       "      <td>EXCEPTIONS</td>\n",
       "    </tr>\n",
       "    <tr>\n",
       "      <th>1</th>\n",
       "      <td>A073</td>\n",
       "      <td>ZYW7631</td>\n",
       "      <td>545576586</td>\n",
       "      <td>2023-11-13 16:00:00</td>\n",
       "      <td>User declined to accept package</td>\n",
       "      <td>EXCEPTIONS</td>\n",
       "    </tr>\n",
       "  </tbody>\n",
       "</table>\n",
       "</div>"
      ],
      "text/plain": [
       "    ID   CARD_ID USER_CONTACT           TIMESTAMP  \\\n",
       "0  A982  ZYW8890    534534534 2023-11-13 14:00:00   \n",
       "1  A073  ZYW7631    545576586 2023-11-13 16:00:00   \n",
       "\n",
       "                           COMMENT      STATUS  \n",
       "0               User not available  EXCEPTIONS  \n",
       "1  User declined to accept package  EXCEPTIONS  "
      ]
     },
     "execution_count": 337,
     "metadata": {},
     "output_type": "execute_result"
    }
   ],
   "source": [
    "df = process_dataframe(df, \"EXCEPTIONS\")\n",
    "df"
   ]
  },
  {
   "cell_type": "markdown",
   "id": "c217f0c7-4600-4d40-9feb-f34f8ae2cf6e",
   "metadata": {},
   "source": [
    "## Database connected"
   ]
  },
  {
   "cell_type": "code",
   "execution_count": 156,
   "id": "d54ead82-5298-42b1-9333-edb6137fd187",
   "metadata": {},
   "outputs": [
    {
     "name": "stdout",
     "output_type": "stream",
     "text": [
      "Pinged your deployment. You successfully connected to MongoDB!\n"
     ]
    }
   ],
   "source": [
    "# Create a new client and connect to the server\n",
    "client = MongoClient(uri, server_api=ServerApi('1'))\n",
    "# Send a ping to confirm a successful connection\n",
    "\n",
    "try:\n",
    "    client.admin.command('ping')\n",
    "    print(\"Pinged your deployment. You successfully connected to MongoDB!\")\n",
    "except Exception as e:\n",
    "    print(e)"
   ]
  },
  {
   "cell_type": "code",
   "execution_count": 154,
   "id": "377f9e47-6ffa-4542-b96d-1fff67645afb",
   "metadata": {},
   "outputs": [],
   "source": [
    "# Close the connection\n",
    "client.close()"
   ]
  },
  {
   "cell_type": "code",
   "execution_count": 240,
   "id": "67df764e-3245-46fd-af9f-b033cc7b14b4",
   "metadata": {},
   "outputs": [],
   "source": [
    "db = client[\"mydb\"]\n",
    "collection = db[\"zywa\"]\n"
   ]
  },
  {
   "cell_type": "code",
   "execution_count": 163,
   "id": "69bfbfb0-a533-4f22-8ad1-768c36ef692a",
   "metadata": {},
   "outputs": [
    {
     "data": {
      "text/plain": [
       "InsertOneResult(ObjectId('65da37a1e1943bc1e996f706'), acknowledged=True)"
      ]
     },
     "execution_count": 163,
     "metadata": {},
     "output_type": "execute_result"
    }
   ],
   "source": [
    "document = {\n",
    "    \"CARD_ID\": \"ABC123\",\n",
    "    \"USER_CONTACT\": 1234567890,\n",
    "    \"STATUS_HISTORY\": [\n",
    "        {\n",
    "            \"STATUS\": \"pending\",\n",
    "            \"COMMENT\": \"Initial status\",\n",
    "            \"TIMESTAMP\": \"11-04-2014\"\n",
    "        }\n",
    "    ]\n",
    "}\n",
    "\n",
    "collection.insert_one(document) "
   ]
  },
  {
   "cell_type": "markdown",
   "id": "0fdb5e21-06b5-4144-b921-779afa2b6d66",
   "metadata": {},
   "source": [
    "### Update the status"
   ]
  },
  {
   "cell_type": "code",
   "execution_count": 164,
   "id": "47790881-107d-4622-a286-921aaaa3b22e",
   "metadata": {},
   "outputs": [
    {
     "data": {
      "text/plain": [
       "UpdateResult({'n': 1, 'electionId': ObjectId('7fffffff000000000000019b'), 'opTime': {'ts': Timestamp(1708799929, 10), 't': 411}, 'nModified': 1, 'ok': 1.0, '$clusterTime': {'clusterTime': Timestamp(1708799929, 10), 'signature': {'hash': b'\\x87\\x08\\x9aP)\\x1a}4\\x9a\\xb09\\x01Gy\\x1c\\xcc0\\xc3\\x0ey', 'keyId': 7306560211760709648}}, 'operationTime': Timestamp(1708799929, 10), 'updatedExisting': True}, acknowledged=True)"
      ]
     },
     "execution_count": 164,
     "metadata": {},
     "output_type": "execute_result"
    }
   ],
   "source": [
    "card_id = \"ABC123\"\n",
    "new_status_entry = {\n",
    "            \"STATUS\": \"delivered\",\n",
    "            \"COMMENT\": \"updated\",\n",
    "            \"TIMESTAMP\": \"11-04-2017\"\n",
    "        }\n",
    "\n",
    "collection.update_one(\n",
    "    {\"CARD_ID\": card_id},\n",
    "    {\"$push\": {\"STATUS_HISTORY\": new_status_entry}}\n",
    ")"
   ]
  },
  {
   "cell_type": "markdown",
   "id": "10bb6f3a-292f-4cb8-8916-2580b47c90cc",
   "metadata": {},
   "source": [
    "### Get data"
   ]
  },
  {
   "cell_type": "code",
   "execution_count": 168,
   "id": "cc809e67-fd98-42a1-a3be-286e36e11266",
   "metadata": {},
   "outputs": [
    {
     "name": "stdout",
     "output_type": "stream",
     "text": [
      "{'_id': ObjectId('65da37a1e1943bc1e996f706'), 'CARD_ID': 'ABC123', 'USER_CONTACT': 1234567890, 'STATUS_HISTORY': [{'STATUS': 'pending', 'COMMENT': 'Initial status', 'TIMESTAMP': '11-04-2014'}, {'STATUS': 'delivered', 'COMMENT': 'updated', 'TIMESTAMP': '11-04-2017'}]}\n"
     ]
    }
   ],
   "source": [
    "card_id = \"ABC123\"  # The CARD_ID you want to search for\n",
    "user_contact = 1234567890\n",
    "result = collection.find_one({\"USER_CONTACT\": user_contact})\n",
    "\n",
    "if result:\n",
    "    print(result) \n",
    "else:\n",
    "    print(\"Document with CARD_ID:\", card_id, \"not found\")"
   ]
  },
  {
   "cell_type": "markdown",
   "id": "f09c2535-43de-4adb-997e-902e0ac22d37",
   "metadata": {},
   "source": [
    "## converting to class"
   ]
  },
  {
   "cell_type": "code",
   "execution_count": 245,
   "id": "402954dd-aa6e-44bf-a5d2-3161080560b4",
   "metadata": {},
   "outputs": [],
   "source": [
    "import pymongo\n",
    "from datetime import datetime\n",
    "\n",
    "# --- Configuration (replace with your connection details) ---\n",
    "# client = pymongo.MongoClient(\"your_mongodb_connection_string\")\n",
    "# db = client[\"your_database_name\"]\n",
    "# collection = db[\"your_collection_name\"]\n",
    "\n",
    "\n",
    "# --- Card Model ---\n",
    "class Card:\n",
    "    def __init__(self, CARD_ID, USER_CONTACT, STATUS_HISTORY, _id=None):\n",
    "        self.CARD_ID = CARD_ID\n",
    "        self.USER_CONTACT = USER_CONTACT\n",
    "        self.STATUS_HISTORY = STATUS_HISTORY\n",
    "\n",
    "    def save(self):\n",
    "        \"\"\"Inserts a new Card document into the MongoDB collection.\"\"\"\n",
    "        document = {\n",
    "            \"CARD_ID\": self.CARD_ID,\n",
    "            \"USER_CONTACT\": self.USER_CONTACT,\n",
    "            \"STATUS_HISTORY\": self.STATUS_HISTORY\n",
    "        }\n",
    "        result = collection.insert_one(document)\n",
    "        return result.inserted_id  # Optionally return the inserted ID\n",
    "\n",
    "    @classmethod\n",
    "    def find_by_card_id(cls, CARD_ID):\n",
    "        \"\"\"Finds a Card document by its CARD_ID.\"\"\"\n",
    "        document = collection.find_one({\"CARD_ID\": CARD_ID})\n",
    "        if document:\n",
    "            return cls(**document)  # Create a Card object from the document\n",
    "        else:\n",
    "            return None\n",
    "\n",
    "    @classmethod\n",
    "    def find_by_contant(cls, contact):\n",
    "        \"\"\"Finds a Card document by its CARD_ID.\"\"\"\n",
    "        document = collection.find_one({\"USER_CONTACT\": contact})\n",
    "        if document:\n",
    "            return cls(**document)  # Create a Card object from the document\n",
    "        else:\n",
    "            return None\n",
    "\n",
    "    def update_status(self, STATUS, COMMENT, TIMESTAMP):\n",
    "        \"\"\"Appends a new status entry to the STATUS_HISTORY.\"\"\"\n",
    "        new_entry = {\n",
    "            \"STATUS\": STATUS,\n",
    "            \"COMMENT\": COMMENT,\n",
    "            \"TIMESTAMP\": TIMESTAMP\n",
    "        }\n",
    "        result = collection.update_one(\n",
    "            {\"CARD_ID\": self.CARD_ID},\n",
    "            {\"$push\": {\"STATUS_HISTORY\": new_entry}}\n",
    "        )\n",
    "        return result.modified_count  # Returns the number of modified documents\n"
   ]
  },
  {
   "cell_type": "code",
   "execution_count": 185,
   "id": "235fa862-f3c3-4bd4-827b-7e7b914a77a1",
   "metadata": {},
   "outputs": [
    {
     "data": {
      "text/plain": [
       "ObjectId('65da3b9fe1943bc1e996f70c')"
      ]
     },
     "execution_count": 185,
     "metadata": {},
     "output_type": "execute_result"
    }
   ],
   "source": [
    "# --- Example Usage ---\n",
    "# Create a new card\n",
    "card = Card(\"XYZ2278\", 987432, [\n",
    "    {\"STATUS\": \"pending\", \"COMMENT\": \"Initial status\", \"TIMESTAMP\": \"2023-12-18T15:30:00Z\"}\n",
    "])\n",
    "card.save()"
   ]
  },
  {
   "cell_type": "code",
   "execution_count": 188,
   "id": "4eb7316c-db64-4ec8-984f-acd3a39f3fa3",
   "metadata": {},
   "outputs": [],
   "source": [
    "# Find a card by CARD_ID\n",
    "found_card = Card.find_by_card_id(\"XYZ2278\")\n",
    "found_card\n",
    "if found_card:\n",
    "    found_card.update_status(\"updaasdted\", \"Status d for a reason\", \"2023-12-18T15:30:00Z\")\n"
   ]
  },
  {
   "cell_type": "code",
   "execution_count": 189,
   "id": "c7ed7f51-f73b-496c-8fd4-223289bf11e9",
   "metadata": {},
   "outputs": [
    {
     "data": {
      "text/plain": [
       "[{'STATUS': 'pending',\n",
       "  'COMMENT': 'Initial status',\n",
       "  'TIMESTAMP': '2023-12-18T15:30:00Z'},\n",
       " {'STATUS': 'updated',\n",
       "  'COMMENT': 'Status changed for a reason',\n",
       "  'TIMESTAMP': '2023-12-18T15:30:00Z'}]"
      ]
     },
     "execution_count": 189,
     "metadata": {},
     "output_type": "execute_result"
    }
   ],
   "source": [
    "found_card.STATUS_HISTORY"
   ]
  },
  {
   "cell_type": "markdown",
   "id": "0fd51ae2-5ed5-4211-9b98-8af1dda2cb94",
   "metadata": {},
   "source": [
    "### Create real data to database"
   ]
  },
  {
   "cell_type": "code",
   "execution_count": 339,
   "id": "e4e971fa-fac1-4014-b292-0aefc2c97fd6",
   "metadata": {},
   "outputs": [
    {
     "data": {
      "text/html": [
       "<div>\n",
       "<style scoped>\n",
       "    .dataframe tbody tr th:only-of-type {\n",
       "        vertical-align: middle;\n",
       "    }\n",
       "\n",
       "    .dataframe tbody tr th {\n",
       "        vertical-align: top;\n",
       "    }\n",
       "\n",
       "    .dataframe thead th {\n",
       "        text-align: right;\n",
       "    }\n",
       "</style>\n",
       "<table border=\"1\" class=\"dataframe\">\n",
       "  <thead>\n",
       "    <tr style=\"text-align: right;\">\n",
       "      <th></th>\n",
       "      <th>ID</th>\n",
       "      <th>CARD_ID</th>\n",
       "      <th>USER_CONTACT</th>\n",
       "      <th>TIMESTAMP</th>\n",
       "      <th>STATUS</th>\n",
       "    </tr>\n",
       "  </thead>\n",
       "  <tbody>\n",
       "    <tr>\n",
       "      <th>0</th>\n",
       "      <td>332</td>\n",
       "      <td>ZYW8827</td>\n",
       "      <td>585949014</td>\n",
       "      <td>2023-11-12 23:59:00</td>\n",
       "      <td>PICKUP</td>\n",
       "    </tr>\n",
       "    <tr>\n",
       "      <th>1</th>\n",
       "      <td>465</td>\n",
       "      <td>ZYW8890</td>\n",
       "      <td>534534534</td>\n",
       "      <td>2023-11-12 03:45:00</td>\n",
       "      <td>PICKUP</td>\n",
       "    </tr>\n",
       "    <tr>\n",
       "      <th>2</th>\n",
       "      <td>878</td>\n",
       "      <td>ZYW7631</td>\n",
       "      <td>545576586</td>\n",
       "      <td>2023-11-13 11:02:00</td>\n",
       "      <td>PICKUP</td>\n",
       "    </tr>\n",
       "  </tbody>\n",
       "</table>\n",
       "</div>"
      ],
      "text/plain": [
       "    ID  CARD_ID USER_CONTACT           TIMESTAMP  STATUS\n",
       "0  332  ZYW8827    585949014 2023-11-12 23:59:00  PICKUP\n",
       "1  465  ZYW8890    534534534 2023-11-12 03:45:00  PICKUP\n",
       "2  878  ZYW7631    545576586 2023-11-13 11:02:00  PICKUP"
      ]
     },
     "execution_count": 339,
     "metadata": {},
     "output_type": "execute_result"
    }
   ],
   "source": [
    "df = pd.read_csv(labeled_files['PICKUP'][0])\n",
    "df = process_dataframe(df, \"PICKUP\")\n",
    "df"
   ]
  },
  {
   "cell_type": "code",
   "execution_count": 340,
   "id": "9f436557-0ccc-4648-bb9c-25d47fc76c31",
   "metadata": {},
   "outputs": [
    {
     "data": {
      "text/plain": [
       "{'ID': 332,\n",
       " 'CARD_ID': 'ZYW8827',\n",
       " 'USER_CONTACT': '585949014',\n",
       " 'TIMESTAMP': Timestamp('2023-11-12 23:59:00'),\n",
       " 'STATUS': 'PICKUP'}"
      ]
     },
     "execution_count": 340,
     "metadata": {},
     "output_type": "execute_result"
    }
   ],
   "source": [
    "df.iloc[0].to_dict()"
   ]
  },
  {
   "cell_type": "code",
   "execution_count": 341,
   "id": "67fe2921-4e40-48a4-9901-6c0bb8613f66",
   "metadata": {},
   "outputs": [
    {
     "data": {
      "text/plain": [
       "True"
      ]
     },
     "execution_count": 341,
     "metadata": {},
     "output_type": "execute_result"
    }
   ],
   "source": [
    "\"ID\" in df.iloc[0].to_dict().keys()"
   ]
  },
  {
   "cell_type": "markdown",
   "id": "a689a45b-4a53-46e6-b1d3-fd3f37f35045",
   "metadata": {},
   "source": [
    "## ADD DATA FOR PICKUP ONLY"
   ]
  },
  {
   "cell_type": "code",
   "execution_count": 342,
   "id": "06779c70-16a4-40b1-a5b0-a1f1b355c340",
   "metadata": {},
   "outputs": [],
   "source": [
    "for i in range(len(df)):\n",
    "    CARD_ID = df.iloc[i][\"CARD_ID\"]\n",
    "    USER_CONTACT = df.iloc[i][\"USER_CONTACT\"]\n",
    "    comment =  df.iloc[i][\"COMMENT\"] if \"COMMENT\" in df.iloc[i].to_dict().keys() else \"\"\n",
    "    STATUS_HISTORY = [{\"STATUS\":  df.iloc[i][\"STATUS\"], \"COMMENT\": comment, \"TIMESTAMP\": df.iloc[i][\"TIMESTAMP\"]}]\n",
    "    \n",
    "    \n",
    "    card = Card(CARD_ID, USER_CONTACT, STATUS_HISTORY)\n",
    "    card.save()"
   ]
  },
  {
   "cell_type": "markdown",
   "id": "c7729513-798d-4763-877d-60296f34ad91",
   "metadata": {},
   "source": [
    "## UPDATE database for restof the status"
   ]
  },
  {
   "cell_type": "code",
   "execution_count": 347,
   "id": "98b29050-3b95-4c37-9408-2442c3b50ea4",
   "metadata": {},
   "outputs": [
    {
     "data": {
      "text/html": [
       "<div>\n",
       "<style scoped>\n",
       "    .dataframe tbody tr th:only-of-type {\n",
       "        vertical-align: middle;\n",
       "    }\n",
       "\n",
       "    .dataframe tbody tr th {\n",
       "        vertical-align: top;\n",
       "    }\n",
       "\n",
       "    .dataframe thead th {\n",
       "        text-align: right;\n",
       "    }\n",
       "</style>\n",
       "<table border=\"1\" class=\"dataframe\">\n",
       "  <thead>\n",
       "    <tr style=\"text-align: right;\">\n",
       "      <th></th>\n",
       "      <th>ID</th>\n",
       "      <th>CARD_ID</th>\n",
       "      <th>USER_CONTACT</th>\n",
       "      <th>TIMESTAMP</th>\n",
       "      <th>STATUS</th>\n",
       "    </tr>\n",
       "  </thead>\n",
       "  <tbody>\n",
       "    <tr>\n",
       "      <th>0</th>\n",
       "      <td>A982</td>\n",
       "      <td>ZYW8890</td>\n",
       "      <td>534534534</td>\n",
       "      <td>2023-11-14 12:00:00</td>\n",
       "      <td>RETURNED</td>\n",
       "    </tr>\n",
       "  </tbody>\n",
       "</table>\n",
       "</div>"
      ],
      "text/plain": [
       "    ID   CARD_ID USER_CONTACT           TIMESTAMP    STATUS\n",
       "0  A982  ZYW8890    534534534 2023-11-14 12:00:00  RETURNED"
      ]
     },
     "execution_count": 347,
     "metadata": {},
     "output_type": "execute_result"
    }
   ],
   "source": [
    "df = pd.read_csv(labeled_files['RETURNED'][0])\n",
    "df = process_dataframe(df, \"RETURNED\")\n",
    "df"
   ]
  },
  {
   "cell_type": "code",
   "execution_count": 348,
   "id": "34333c12-67a3-48d3-a8ba-ee7eefa763a5",
   "metadata": {},
   "outputs": [],
   "source": [
    "for i in range(len(df)):\n",
    "    CARD_ID = df.iloc[i][\"CARD_ID\"]\n",
    "    USER_CONTACT = df.iloc[i][\"USER_CONTACT\"]\n",
    "    comment =  df.iloc[i][\"COMMENT\"] if \"COMMENT\" in df.iloc[i].to_dict().keys() else \"\"\n",
    "    STATUS_HISTORY = {\"STATUS\":  df.iloc[i][\"STATUS\"], \"COMMENT\": comment, \"TIMESTAMP\": df.iloc[i][\"TIMESTAMP\"]}\n",
    "    \n",
    "    \n",
    "    # Find a card by CARD_ID\n",
    "    found_card = Card.find_by_card_id(CARD_ID)\n",
    "    found_card\n",
    "    if found_card:\n",
    "        found_card.update_status(**STATUS_HISTORY)"
   ]
  },
  {
   "cell_type": "markdown",
   "id": "f898f858-cae4-419a-a72c-112b1bdc1d6c",
   "metadata": {},
   "source": [
    "## get the card info"
   ]
  },
  {
   "cell_type": "code",
   "execution_count": 352,
   "id": "8ab6fa3c-2c25-4e30-9d50-a51ebbd78aa5",
   "metadata": {},
   "outputs": [
    {
     "data": {
      "text/plain": [
       "[{'STATUS': 'PICKUP',\n",
       "  'COMMENT': '',\n",
       "  'TIMESTAMP': datetime.datetime(2023, 11, 12, 3, 45)},\n",
       " {'STATUS': 'EXCEPTIONS',\n",
       "  'COMMENT': 'User not available',\n",
       "  'TIMESTAMP': datetime.datetime(2023, 11, 13, 14, 0)},\n",
       " {'STATUS': 'RETURNED',\n",
       "  'COMMENT': '',\n",
       "  'TIMESTAMP': datetime.datetime(2023, 11, 14, 12, 0)}]"
      ]
     },
     "execution_count": 352,
     "metadata": {},
     "output_type": "execute_result"
    }
   ],
   "source": [
    "card = Card.find_by_card_id(\"ZYW8890\")\n",
    "card.STATUS_HISTORY"
   ]
  },
  {
   "cell_type": "code",
   "execution_count": 365,
   "id": "dfc11d0c-0b19-4192-a123-4af4cf27dc21",
   "metadata": {},
   "outputs": [
    {
     "data": {
      "text/plain": [
       "('ZYW8890', '534534534')"
      ]
     },
     "execution_count": 365,
     "metadata": {},
     "output_type": "execute_result"
    }
   ],
   "source": [
    "card.CARD_ID, card.USER_CONTACT"
   ]
  },
  {
   "cell_type": "code",
   "execution_count": 353,
   "id": "dba7ac55-cf06-423d-9b07-46a9df1ffbbc",
   "metadata": {},
   "outputs": [
    {
     "name": "stdout",
     "output_type": "stream",
     "text": [
      "{'STATUS': 'RETURNED', 'COMMENT': '', 'TIMESTAMP': datetime.datetime(2023, 11, 14, 12, 0)}\n"
     ]
    }
   ],
   "source": [
    "latest_dict = max(card.STATUS_HISTORY, key=lambda x: x['TIMESTAMP'])\n",
    "\n",
    "print(latest_dict)"
   ]
  },
  {
   "cell_type": "code",
   "execution_count": 354,
   "id": "a743aae4-f8fe-418c-b012-a40270dd5136",
   "metadata": {},
   "outputs": [],
   "source": [
    "# your_api_project/\n",
    "# ├── app.py                     # Main application file\n",
    "# ├── config.py                  # Configuration settings\n",
    "# ├── models/                    # Data models and MongoDB interactions\n",
    "# │   ├── __init__.py           \n",
    "# │   └── card.py                # Example model\n",
    "# ├── routes/                    # API endpoints (routes)\n",
    "# │   ├── __init__.py           \n",
    "# │   └── cards.py               # Example routes\n",
    "# ├── tests/                     # Unit and integration tests\n",
    "# │   ├── __init__.py           \n",
    "# │   └── test_cards.py          # Example test file\n",
    "# ├── requirements.txt           # Project dependencies\n",
    "# └── README.md                  # Project description and instructions"
   ]
  },
  {
   "cell_type": "code",
   "execution_count": 367,
   "id": "9dcf1f18-7b7f-4197-a6e1-b0b9d8ab696e",
   "metadata": {},
   "outputs": [],
   "source": [
    "db['zywa'].drop()"
   ]
  },
  {
   "cell_type": "code",
   "execution_count": null,
   "id": "82a134de-34c3-4598-a052-716a7735a553",
   "metadata": {},
   "outputs": [],
   "source": []
  }
 ],
 "metadata": {
  "kernelspec": {
   "display_name": "Python 3 (ipykernel)",
   "language": "python",
   "name": "python3"
  },
  "language_info": {
   "codemirror_mode": {
    "name": "ipython",
    "version": 3
   },
   "file_extension": ".py",
   "mimetype": "text/x-python",
   "name": "python",
   "nbconvert_exporter": "python",
   "pygments_lexer": "ipython3",
   "version": "3.11.7"
  }
 },
 "nbformat": 4,
 "nbformat_minor": 5
}
